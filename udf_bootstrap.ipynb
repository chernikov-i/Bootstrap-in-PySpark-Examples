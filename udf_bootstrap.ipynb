{
 "cells": [
  {
   "cell_type": "code",
   "execution_count": 1,
   "id": "011ddcdc",
   "metadata": {},
   "outputs": [],
   "source": [
    "import os\n",
    "import sys\n",
    "import pandas as pd\n",
    "import numpy as np\n",
    "from pyspark.sql import SparkSession\n",
    "from pyspark.sql import Window, functions as F, types as T"
   ]
  },
  {
   "cell_type": "code",
   "execution_count": 2,
   "id": "ae74820a",
   "metadata": {},
   "outputs": [
    {
     "name": "stderr",
     "output_type": "stream",
     "text": [
      "24/09/23 12:13:29 WARN NativeCodeLoader: Unable to load native-hadoop library for your platform... using builtin-java classes where applicable\n",
      "Using Spark's default log4j profile: org/apache/spark/log4j-defaults.properties\n",
      "Setting default log level to \"WARN\".\n",
      "To adjust logging level use sc.setLogLevel(newLevel). For SparkR, use setLogLevel(newLevel).\n"
     ]
    }
   ],
   "source": [
    "os.environ['PYSPARK_PYTHON']= sys.executable\n",
    "spark = (\n",
    "    SparkSession.builder\n",
    "    .master(\"local[1]\")\n",
    "    .config(\"spark.executor.cores\", \"1\")\n",
    "    .config(\"spark.sql.shuffle.partitions\", \"1\")\n",
    "    .getOrCreate()\n",
    ")\n",
    "spark.sparkContext.setLogLevel(\"ERROR\")"
   ]
  },
  {
   "cell_type": "code",
   "execution_count": 3,
   "id": "e7197601",
   "metadata": {},
   "outputs": [
    {
     "name": "stderr",
     "output_type": "stream",
     "text": [
      "\r",
      "[Stage 0:>                                                          (0 + 1) / 1]"
     ]
    },
    {
     "name": "stdout",
     "output_type": "stream",
     "text": [
      "+-------+-----------------+-------+------+----------+--------------------+\n",
      "|camp_id|control_group_flg|revenue|margin|conversion|             user_id|\n",
      "+-------+-----------------+-------+------+----------+--------------------+\n",
      "|ED_3755|                0|   4.77|   5.3|         1|6f9be979ec9f4aba9...|\n",
      "|ED_3755|                0|   7.53|  8.12|         1|6a0a4bdd10e670717...|\n",
      "|ED_3755|                0|  12.33|  5.24|         1|2b96123b22c810b53...|\n",
      "|ED_3755|                0|   5.44|  4.32|         1|06d37e5b5d6c45a9a...|\n",
      "|ED_3755|                0|    0.0|   0.0|         0|86fcb416dd0d2b9e7...|\n",
      "+-------+-----------------+-------+------+----------+--------------------+\n",
      "only showing top 5 rows\n",
      "\n"
     ]
    },
    {
     "name": "stderr",
     "output_type": "stream",
     "text": [
      "\r",
      "                                                                                \r"
     ]
    }
   ],
   "source": [
    "schema = T.StructType([\n",
    "    T.StructField('camp_id', T.StringType()),\n",
    "    T.StructField('control_group_flg', T.ShortType()),\n",
    "    T.StructField('revenue', T.DoubleType()),\n",
    "    T.StructField('margin', T.DoubleType()),\n",
    "    T.StructField('conversion', T.ShortType()),\n",
    "    T.StructField('user_id', T.StringType()),\n",
    "])\n",
    "\n",
    "statistics_df = spark.createDataFrame(pd.read_csv('data_sample.csv'))\n",
    "statistics_df.show(5)"
   ]
  },
  {
   "cell_type": "code",
   "execution_count": 4,
   "id": "cd01de20",
   "metadata": {},
   "outputs": [],
   "source": [
    "# Список ключевых столбцов\n",
    "KEY_COLS = ['camp_id']\n",
    "# Список метрик, по которым считаем статистику\n",
    "STATISTICS_COLS = ['revenue', 'margin', 'conversion']\n",
    "ALPHA = 0.05\n",
    "BS_ITERS = 10000\n",
    "\n",
    "# Определяем схему дф, который будет возвращаться из pandas_udf,\n",
    "schema = T.StructType(\n",
    "    # Ключевые поля\n",
    "    [T.StructField(i, T.StringType()) for i in KEY_COLS]\n",
    "    +\n",
    "    # Схема для левой и правой границ доверительного интервала всех метрик\n",
    "    [T.StructField(metric, T.ArrayType(T.DoubleType()))\n",
    "     for metric in STATISTICS_COLS]\n",
    ")"
   ]
  },
  {
   "cell_type": "code",
   "execution_count": 5,
   "id": "0082eb50",
   "metadata": {},
   "outputs": [],
   "source": [
    "# Создаем udf для расчета статистик по нашей схеме\n",
    "@F.pandas_udf(schema, functionType=F.PandasUDFType.GROUPED_MAP)\n",
    "def bs_on_executor(pdf: pd.DataFrame) -> pd.DataFrame:\n",
    "    \"\"\"Функция расчета доверительного интервала для нескольких метрик\"\"\"\n",
    "\n",
    "    # На каждом воркере выставляем переменную ARROW_PRE_0_15_IPC_FORMAT\n",
    "    # Это нужно для того, чтобы на нашей версии PySpark нормально работал более новый PyArrow\n",
    "    os.environ['ARROW_PRE_0_15_IPC_FORMAT'] = '1'\n",
    "    # получаем значение KEY_COLS для того, чтобы их вернуть в ответе\n",
    "    keys = pdf[KEY_COLS].iloc[0].tolist()\n",
    "\n",
    "    # контрольная группа\n",
    "    a = (pdf.loc[pdf['control_group_flg'] == 1]\n",
    "         .reset_index(drop=True)[STATISTICS_COLS])\n",
    "    # пилотная группа\n",
    "    b = (pdf.loc[pdf['control_group_flg'] == 0]\n",
    "         .reset_index(drop=True)[STATISTICS_COLS])\n",
    "    len_a = len(a)\n",
    "    len_b = len(b)\n",
    "    \n",
    "    diff_list = []\n",
    "    # непосредственно само бутстрапирование\n",
    "    for _ in range(BS_ITERS):\n",
    "        a_boot = a.sample(len_a, replace=True).mean()\n",
    "        b_boot = b.sample(len_b, replace=True).mean()\n",
    "        diff_list.append(b_boot - a_boot)\n",
    "    bs_result = pd.concat(diff_list)\n",
    "    \n",
    "    # расчет доверительного интервала\n",
    "    ci_res = bs_result.groupby(bs_result.index).quantile([ALPHA/2, 1-ALPHA/2])\n",
    "\n",
    "    return pd.DataFrame(\n",
    "        [keys + [ci_res[metric].tolist() for metric in STATISTICS_COLS]])"
   ]
  },
  {
   "cell_type": "code",
   "execution_count": 6,
   "id": "e7f625f6",
   "metadata": {},
   "outputs": [],
   "source": [
    "# Сама группировка и вызов бутстрапа\n",
    "result = statistics_df.groupBy(*KEY_COLS).apply(bs_on_executor)"
   ]
  },
  {
   "cell_type": "code",
   "execution_count": 7,
   "id": "f6ee5c5b",
   "metadata": {},
   "outputs": [
    {
     "name": "stderr",
     "output_type": "stream",
     "text": [
      "                                                                                \r"
     ]
    },
    {
     "data": {
      "text/html": [
       "<div>\n",
       "<style scoped>\n",
       "    .dataframe tbody tr th:only-of-type {\n",
       "        vertical-align: middle;\n",
       "    }\n",
       "\n",
       "    .dataframe tbody tr th {\n",
       "        vertical-align: top;\n",
       "    }\n",
       "\n",
       "    .dataframe thead th {\n",
       "        text-align: right;\n",
       "    }\n",
       "</style>\n",
       "<table border=\"1\" class=\"dataframe\">\n",
       "  <thead>\n",
       "    <tr style=\"text-align: right;\">\n",
       "      <th></th>\n",
       "      <th>camp_id</th>\n",
       "      <th>revenue</th>\n",
       "      <th>margin</th>\n",
       "      <th>conversion</th>\n",
       "    </tr>\n",
       "  </thead>\n",
       "  <tbody>\n",
       "    <tr>\n",
       "      <th>0</th>\n",
       "      <td>ED_3755</td>\n",
       "      <td>[0.16969908831748154, 1.2289019013882871]</td>\n",
       "      <td>[-0.8191781309097076, 0.29519699257670146]</td>\n",
       "      <td>[0.011790179957500424, 0.06894876271658001]</td>\n",
       "    </tr>\n",
       "  </tbody>\n",
       "</table>\n",
       "</div>"
      ],
      "text/plain": [
       "   camp_id                                    revenue  \\\n",
       "0  ED_3755  [0.16969908831748154, 1.2289019013882871]   \n",
       "\n",
       "                                       margin  \\\n",
       "0  [-0.8191781309097076, 0.29519699257670146]   \n",
       "\n",
       "                                    conversion  \n",
       "0  [0.011790179957500424, 0.06894876271658001]  "
      ]
     },
     "execution_count": 7,
     "metadata": {},
     "output_type": "execute_result"
    }
   ],
   "source": [
    "# В итоге получаем df с доверительными интервалами метрик\n",
    "result.toPandas()"
   ]
  },
  {
   "cell_type": "code",
   "execution_count": 8,
   "id": "91015e93",
   "metadata": {},
   "outputs": [],
   "source": [
    "spark.stop()"
   ]
  },
  {
   "cell_type": "code",
   "execution_count": null,
   "id": "7a3b2c1b",
   "metadata": {},
   "outputs": [],
   "source": []
  }
 ],
 "metadata": {
  "kernelspec": {
   "display_name": "Python 3 (ipykernel)",
   "language": "python",
   "name": "python3"
  },
  "language_info": {
   "codemirror_mode": {
    "name": "ipython",
    "version": 3
   },
   "file_extension": ".py",
   "mimetype": "text/x-python",
   "name": "python",
   "nbconvert_exporter": "python",
   "pygments_lexer": "ipython3",
   "version": "3.7.16"
  }
 },
 "nbformat": 4,
 "nbformat_minor": 5
}
